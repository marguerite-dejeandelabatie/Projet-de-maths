{
 "metadata": {
  "language_info": {
   "codemirror_mode": {
    "name": "ipython",
    "version": 3
   },
   "file_extension": ".py",
   "mimetype": "text/x-python",
   "name": "python",
   "nbconvert_exporter": "python",
   "pygments_lexer": "ipython3",
   "version": "3.7.3-final"
  },
  "orig_nbformat": 2,
  "kernelspec": {
   "name": "python3",
   "display_name": "Python 3"
  }
 },
 "nbformat": 4,
 "nbformat_minor": 2,
 "cells": [
  {
   "source": [
    "# Courbes de niveau"
   ],
   "cell_type": "markdown",
   "metadata": {}
  },
  {
   "source": [
    "par *Laure Bourguelle et Marguerite Dejean de La Bâtie*"
   ],
   "cell_type": "markdown",
   "metadata": {}
  },
  {
   "source": [
    "\n",
    "# Préambule\n",
    "\n",
    "#Autograd & Numpy\n",
    "import autograd\n",
    "import autograd.numpy as np\n",
    "\n",
    "#Pandas\n",
    "import pandas as pd\n",
    "\n",
    "#Matplotlib\n",
    "import matplotlib as mpl\n",
    "import matplotlib.pyplot as plt\n",
    "plt.rcParams['figure.figsize'] = [10, 10] #[width, height] (inches). \n",
    "\n",
    "#Jupyter & IPython\n",
    "from IPython.display import display\n",
    "\n"
   ],
   "cell_type": "code",
   "metadata": {},
   "execution_count": 7,
   "outputs": []
  },
  {
   "cell_type": "code",
   "execution_count": 8,
   "metadata": {},
   "outputs": [],
   "source": [
    "def grad(f):\n",
    "    g = autograd.grad\n",
    "    def grad_f(x, y):\n",
    "        return np.array([g(f, 0)(x, y), g(f, 1)(x, y)])\n",
    "    return grad_f"
   ]
  },
  {
   "source": [
    "def J(f):\n",
    "    j = autograd.jacobian\n",
    "    def J_f(x, y):\n",
    "        return np.array([j(f, 0)(x, y), j(f, 1)(x, y)]).T\n",
    "    return J_f"
   ],
   "cell_type": "code",
   "metadata": {},
   "execution_count": 9,
   "outputs": []
  },
  {
   "cell_type": "code",
   "execution_count": 10,
   "metadata": {},
   "outputs": [],
   "source": [
    "def f1(x1, x2):\n",
    "    x1 = np.array(x1)\n",
    "    x2 = np.array(x2)\n",
    "    return 3.0 * x1 * x1 - 2.0 * x1 * x2 + 3.0 * x2 * x2 "
   ]
  },
  {
   "source": [
    "**Question 1**\n",
    "\n",
    "Soient $c \\in \\mathbb{R}$ et $f:\\mathbb{R}^2\\rightarrow \\mathbb{R}$ continue telle que $f(x_1,x_2)\\rightarrow +\\infty$ quand $||(x_1,x_2)||\\rightarrow +\\infty$.\n",
    "\n",
    "Montrons que l'ensemble de niveau $c$ de $f$ est compact.\n",
    "\n",
    "En effet, par hypothèse, $f(x_1,x_2)\\rightarrow +\\infty$, c'est-à-dire que pour tout $A\\in \\mathbb{R}$, il existe $B\\in \\mathbb{R}$ tel que si $||(x_1,x_2)||>B$, alors $f(x_1,x_2)>A$.\n",
    "\n",
    "On prend $A=c$. Il existe donc $B\\in\\mathbb{R}$ tel que $||(x_1,x_2)||>B$ implique $f(x_1,x_2)>c$.\n",
    "\n",
    "L'ensemble de niveau $c$ de $f$ est donc inclus dans la boule de centre $(0,0)$ et de rayon $B$. Il s'agit donc d'un ensemble borné.\n",
    "\n",
    "De plus, $\\{x\\in \\mathbb{R}/f(x)=c \\}$ est un ensemble fermé comme image réciproque par une fonction continue du fermé $\\{c\\}$.\n",
    "\n",
    "**L'ensemble de niveau $c$ de $f$ est donc un ensemble fermé borné en dimension 1 finie, donc un compact.**"
   ],
   "cell_type": "markdown",
   "metadata": {}
  },
  {
   "source": [
    "**Question 2**\n",
    "\n"
   ],
   "cell_type": "markdown",
   "metadata": {}
  },
  {
   "source": [
    "**Question 3**\n",
    "\n",
    "On pose $p(x_1, x_2) := \\frac{\\partial_2 f(x_0)}{\\|\\nabla f(x_0)\\|} (x_1 - x_{10}) -\n",
    "\\frac{\\partial_1 f(x_0)}{\\|\\nabla f(x_0)\\|} (x_2 - x_{20})$ et $g:((x_1,x_2),t) \\mapsto (f(x_1,x_2)-c, t-p(x_1,x_2))$.\n",
    "\n",
    "$g$ est continûment différentiable car ses deux fonctions composantes le sont : $f$ est continûment différentiable donc $f-c$ l'est aussi par somme et $t-p(x)$ est un polynôme en les coordonnées.\n",
    "\n",
    "La matrice jacobienne partielle de $g$ par rapport à $x$ est donc :\n",
    "$J_x(g)=\\begin{pmatrix}\n",
    "\\partial_1 f & \\partial_2 f\\\\\n",
    "-\\partial_1 p& -\\partial_2 p\n",
    "\\end{pmatrix} =\n",
    "\\begin{pmatrix}\n",
    "\\partial_1 f & \\partial_2 f\\\\\n",
    "-\\frac{\\partial_2 f(x_0)}{\\|\\nabla f(x_0)\\|}& \\frac{\\partial_1 f(x_0)}{\\|\\nabla f(x_0)\\|}\n",
    "\\end{pmatrix}$\n",
    "\n",
    "Or $\\nabla f=\\partial_{(x_1,x_2)} f$ ne s'annule pas dans un voisinage de $x_0$. La jacobienne est donc inversible sur ce voisinage.\n",
    "\n",
    "Enfin, pour $t_0=0=p(x_0)$, $g(x_0,t_0-p(x_0))=(f(x_0)-c,0)=0$.\n",
    "\n",
    "Donc d'après le théorème des fonctions implicites, il existe $\\varepsilon >0$ et une unique fonction implicite $\\gamma : ]-\\varepsilon, +\\varepsilon[ \\rightarrow \\mathbb{R}^2$ continûment différentiable telle que pour tout $x$ dans un voisinage de $x_0$ et pour tout $t\\in ]-\\varepsilon, +\\varepsilon[$, $g(x,t)=0$ équivaut à $x = \\gamma(t)$, c'est-à-dire $(f(x_1,x_2)-c, t-p(x_1,x_2))=(0,0)$ équivaut à $x=\\gamma(t)$.\n",
    "\n",
    "Donc pour $t=p(x_1,x_2)$, $f(x_1,x_2)=c$ équivaut à $x=\\gamma(t)$."
   ],
   "cell_type": "markdown",
   "metadata": {}
  },
  {
   "source": [
    "**Question 4**\n",
    "\n",
    "D'après le théorème des fonctions implicites dont les hypothèses ont été vérifiées à la question précédente :\n",
    "\n",
    "Pour tout $t\\in ]-\\varepsilon, \\varepsilon[$,\n",
    "\n",
    "$\\gamma'(t)=-J_x(g((x_1,x_2),t))^{-1}.\\partial_t g((x_1,x_2),t) =\n",
    "\\begin{pmatrix}\n",
    "\\partial_1 f(x_1,x_2) & \\partial_2 f(x_1,x_2)\\\\\n",
    "-\\partial_1 p(x_1,x_2)& -\\partial_2 p(x_1,x_2)\n",
    "\\end{pmatrix}^{-1}.\n",
    "\\begin{pmatrix}\n",
    "\\partial_t (f(x_1,x_2)-c)\\\\\n",
    "\\partial_t (t-p(x_1,x_2))\n",
    "\\end{pmatrix}$\n",
    "\n",
    "$=\\frac{1}{det J_x(g)} \\times \\begin{pmatrix}\n",
    "-\\partial_2 p(x_1,x_2) & -\\partial_2 f(x_1,x_2)\\\\\n",
    "\\partial_1 p(x_1,x_2)& \\partial_1 f(x_1,x_2)\n",
    "\\end{pmatrix}.\n",
    "\\begin{pmatrix}\n",
    "0\\\\\n",
    "1\n",
    "\\end{pmatrix}$\n",
    "\n",
    "$=\\frac{1}{det J_x(g)} \\times\n",
    "\\begin{pmatrix}\n",
    "-\\partial_2 f(x_1,x_2)\\\\\n",
    "\\partial_1 f(x_1,x_2)\n",
    "\\end{pmatrix} \\neq 0$ d'après la question précédente.\n",
    "\n",
    "\n",
    "\n",
    "De plus, $\\nabla f(\\gamma (t)) = \\nabla f(x_1,x_2)$ d'après la question 3.\n",
    "\n",
    "Or $\\nabla f(x_1,x_2) =\\begin{pmatrix}\n",
    "\\partial_1 f(x_1,x_2)\\\\\n",
    "\\partial_2 f(x_1,x_2)\n",
    "\\end{pmatrix}$.\n",
    "\n",
    "Donc $<\\gamma'(t)|\\nabla f(\\gamma (t))> = \\frac{1}{det J_x(g)} \\times\n",
    "(-\\partial_2 f(x_1,x_2),\\partial_1 f(x_1,x_2)).\\begin{pmatrix}\n",
    "\\partial_1 f(x_1,x_2)\\\\\n",
    "\\partial_2 f(x_1,x_2)\n",
    "\\end{pmatrix}=0$.\n",
    "\n",
    "**Donc $\\gamma'(t)$ est bien orthogonal à $\\nabla f(\\gamma (t))$.**\n"
   ],
   "cell_type": "markdown",
   "metadata": {}
  },
  {
   "source": [
    "**Question 5**\n",
    "\n",
    "Précision ?\n",
    "\n",
    "On choisit $eps = 10^{-5}$.\n",
    "\n",
    "On choisit un $\\varepsilon$ suffisament petit pour avoir une bonne précision dans la valeur retournée. Cependant, il ne faut pas que la valeur soit trop petite si on veut obtenir un résultat en moins de $N$ étapes. De plus, un $\\varepsilon$ trop petit serait inutile à cause des erreurs d'arrondis dans les calculs sur les flottants."
   ],
   "cell_type": "markdown",
   "metadata": {}
  },
  {
   "cell_type": "code",
   "execution_count": 68,
   "metadata": {},
   "outputs": [],
   "source": [
    "eps = 10e-5\n",
    "N = 100\n",
    "\n",
    "def F1(x,y):\n",
    "    return np.array([f1(x,y)-0.8, x-y])\n",
    "\n",
    "def Newton(F, x0, y0, eps=eps, N=N):\n",
    "    \n",
    "    for i in range(N):\n",
    "        inv_jacob = np.linalg.inv(J(F)(x0,y0))\n",
    "        [a, b] = np.dot(inv_jacob, F(x0, y0))\n",
    "        x,y = x0 - a, y0 - b\n",
    "        if np.sqrt((x - x0)**2 + (y - y0)**2) <= eps:\n",
    "            return x, y\n",
    "        x0, y0 = x, y\n",
    "    else:\n",
    "        raise ValueError(f\"no convergence in {N} steps.\")"
   ]
  },
  {
   "cell_type": "code",
   "execution_count": 69,
   "metadata": {},
   "outputs": [
    {
     "output_type": "execute_result",
     "data": {
      "text/plain": [
       "(0.4472135970019964, 0.4472135970019964)"
      ]
     },
     "metadata": {},
     "execution_count": 69
    }
   ],
   "source": [
    "Newton(F1, 0.8,0.8)"
   ]
  },
  {
   "source": [
    "**Graphiquement ?**"
   ],
   "cell_type": "markdown",
   "metadata": {}
  },
  {
   "cell_type": "code",
   "execution_count": 107,
   "metadata": {},
   "outputs": [],
   "source": [
    "def level_curve(f, x0, y0, delta = 0.1, N = 1000, eps = eps):\n",
    "    x_ref, y_ref = x_0, y_0\n",
    "    def F(x,y):\n",
    "        distance = np.sqrt((x_ref - x)**2 + (y_ref - y)**2)\n",
    "        return np.array([f1(x,y)-0.8, int(distance < delta)])\n",
    "    return(Newton(F, x0, y0, eps, N))"
   ]
  },
  {
   "cell_type": "code",
   "execution_count": null,
   "metadata": {},
   "outputs": [],
   "source": []
  }
 ]
}