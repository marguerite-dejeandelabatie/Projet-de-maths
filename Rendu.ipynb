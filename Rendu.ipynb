{
 "metadata": {
  "language_info": {
   "codemirror_mode": {
    "name": "ipython",
    "version": 3
   },
   "file_extension": ".py",
   "mimetype": "text/x-python",
   "name": "python",
   "nbconvert_exporter": "python",
   "pygments_lexer": "ipython3",
   "version": "3.8.3-final"
  },
  "orig_nbformat": 2,
  "kernelspec": {
   "name": "python3",
   "display_name": "Python 3"
  }
 },
 "nbformat": 4,
 "nbformat_minor": 2,
 "cells": [
  {
   "source": [
    "# Courbes de niveau"
   ],
   "cell_type": "markdown",
   "metadata": {}
  },
  {
   "source": [
    "par *Laure Bourguelle et Marguerite Dejean de La Bâtie*"
   ],
   "cell_type": "markdown",
   "metadata": {}
  },
  {
   "source": [
    "\n",
    "# Préambule\n",
    "\n",
    "#Autograd & Numpy\n",
    "import autograd\n",
    "import autograd.numpy as np\n",
    "\n",
    "#Pandas\n",
    "import pandas as pd\n",
    "\n",
    "#Matplotlib\n",
    "import matplotlib as mpl\n",
    "import matplotlib.pyplot as plt\n",
    "plt.rcParams['figure.figsize'] = [10, 10] #[width, height] (inches). \n",
    "\n",
    "#Jupyter & IPython\n",
    "from IPython.display import display\n",
    "\n"
   ],
   "cell_type": "code",
   "metadata": {},
   "execution_count": 35,
   "outputs": []
  },
  {
   "cell_type": "code",
   "execution_count": null,
   "metadata": {},
   "outputs": [],
   "source": [
    "def grad(f):\n",
    "    g = autograd.grad\n",
    "    def grad_f(x, y):\n",
    "        return np.array([g(f, 0)(x, y), g(f, 1)(x, y)])\n",
    "    return grad_f"
   ]
  },
  {
   "source": [
    "def J(f):\n",
    "    j = autograd.jacobian\n",
    "    def J_f(x, y):\n",
    "        return np.array([j(f, 0)(x, y), j(f, 1)(x, y)]).T\n",
    "    return J_f"
   ],
   "cell_type": "code",
   "metadata": {},
   "execution_count": null,
   "outputs": []
  },
  {
   "source": [
    "**Question 1**\n",
    "\n",
    "Soient $c \\in \\mathbb{R}$ et $f:\\mathbb{R}^2\\rightarrow \\mathbb{R}$ continue telle que $f(x_1,x_2)\\rightarrow +\\infty$ quand $||(x_1,x_2)||\\rightarrow +\\infty$.\n",
    "\n",
    "L'ensemble de niveau $c$ de $f$ est majoré.\n",
    "\n",
    "En effet, par hypothèse, $f(x_1,x_2)\\rightarrow +\\infty$, c'est-à-dire que pour tout $A\\in \\mathbb{R}$, il existe $B\\in \\mathbb{R}$ tel que si $||(x_1,x_2)||>B$, alors $f(x_1,x_2)>A$.\n",
    "\n",
    "On prend $A=c$. Il existe donc $B\\in\\mathbb{R}$ tel que $||(x_1,x_2)||>B$ implique $f(x_1,x_2)>c$.\n",
    "\n",
    "L'ensemble de niveau $c$ de $f$ est donc inclus dans la boule de centre $(0,0)$ et de rayon $B$.\n",
    "\n",
    "Donc il est majoré."
   ],
   "cell_type": "markdown",
   "metadata": {}
  },
  {
   "source": [
    "**Question 2**\n",
    "\n"
   ],
   "cell_type": "code",
   "metadata": {},
   "execution_count": null,
   "outputs": []
  },
  {
   "source": [
    "**Question 3**\n",
    "\n",
    "On pose $x=(x_1,x_2)$ et $g:(x,t) \\mapsto (f(x)-c, t)$.\n",
    "\n",
    "$g$ est continûment différentiable car ses deux fonctions composantes le sont ($f$ est continûment différentiable donc $f-c$ l'est aussi par somme).\n",
    "\n",
    "La matrice jacobienne de $g$ est donc :\n",
    "$$\n",
    "$$\n",
    "\n",
    "Or $\\nabla f=\\partial_x f$ ne s'annule pas dans un voisinage de $x_0$. La jacobienne est donc inversible sur ce voisinage.\n",
    "\n",
    "Enfin, pour $t_0=p(x_0)=0$, $g(x_0,t_0)=(f(x_0)-c,0)=0$.\n",
    "\n",
    "Donc d'après le théorème des fonctions implicites, il existe $\\varepsilon >0$ et une unique fonction implicite $\\gamma : ]-\\varepsilon, +\\varepsilon[ \\rightarrow \\mathbb{R}^2$ continûment différentiable telle que pour tout $x$ dans un voisinage de $x_0$ et pour tout $t\\in ]-\\varepsilon, +\\varepsilon[$, $g(x,t)=0$ équivaut à $x = \\gamma(t)$, \n",
    "\n",
    "ce qui implique donc $f(x)=c$ équivaut à $x=\\gamma(t)$.\n",
    "\n",
    "\n"
   ],
   "cell_type": "markdown",
   "metadata": {}
  },
  {
   "source": [
    "**Question 4**\n"
   ],
   "cell_type": "markdown",
   "metadata": {}
  },
  {
   "source": [
    "**Question 5**\n",
    "\n",
    "Précision ?\n",
    "\n",
    "On choisit $eps = 10^{-5}$.\n",
    "\n",
    "On choisit un $\\varepsilon$ suffisament petit pour avoir une bonne précision dans la valeur retournée. Cependant, il ne faut pas que la valeur soit trop petite si on veut obtenir un résultat en moins de $N$ étapes. De plus, un $\\varepsilon$ trop petit serait inutile à cause des erreurs d'arrondis dans les calculs sur les flottants."
   ],
   "cell_type": "markdown",
   "metadata": {}
  },
  {
   "cell_type": "code",
   "execution_count": null,
   "metadata": {},
   "outputs": [],
   "source": [
    "def Newton(F, x0, y0, eps=eps, N=N):\n",
    "    \n",
    "    for i in range(N):\n",
    "        xprim, yprim = grad(F)(x0,y0)\n",
    "        Fx, Fy = F(x0,y0)\n",
    "        x, y = x0 - Fx/xprim, y0 - Fy/yprim\n",
    "        if np.sqrt((x - x0)**2 + (y - y0)**2) <= eps:\n",
    "            return x, y\n",
    "        x0, y0 = x, y\n",
    "    else:\n",
    "        raise ValueError(f\"no convergence in {N} steps.\")"
   ]
  }
 ]
}